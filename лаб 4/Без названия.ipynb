{
 "cells": [
  {
   "cell_type": "markdown",
   "id": "ebd26585",
   "metadata": {},
   "source": [
    "# ЛР №4"
   ]
  },
  {
   "cell_type": "code",
   "execution_count": 1,
   "id": "0526ae18",
   "metadata": {},
   "outputs": [],
   "source": [
    "import numpy as np\n",
    "import pandas as pd\n",
    "from typing import Dict, Tuple\n",
    "import seaborn as sns\n",
    "import matplotlib.pyplot as plt\n",
    "%matplotlib inline\n",
    "from sklearn.impute import SimpleImputer\n",
    "import warnings\n",
    "from sklearn.pipeline import Pipeline\n",
    "from sklearn.preprocessing import PolynomialFeatures\n",
    "from sklearn.metrics import confusion_matrix, precision_score, recall_score, f1_score, classification_report\n",
    "from sklearn.linear_model import LinearRegression\n",
    "warnings.simplefilter(\"ignore\")"
   ]
  },
  {
   "cell_type": "code",
   "execution_count": 2,
   "id": "2b8d6502",
   "metadata": {},
   "outputs": [
    {
     "data": {
      "text/html": [
       "<div>\n",
       "<style scoped>\n",
       "    .dataframe tbody tr th:only-of-type {\n",
       "        vertical-align: middle;\n",
       "    }\n",
       "\n",
       "    .dataframe tbody tr th {\n",
       "        vertical-align: top;\n",
       "    }\n",
       "\n",
       "    .dataframe thead th {\n",
       "        text-align: right;\n",
       "    }\n",
       "</style>\n",
       "<table border=\"1\" class=\"dataframe\">\n",
       "  <thead>\n",
       "    <tr style=\"text-align: right;\">\n",
       "      <th></th>\n",
       "      <th>gender</th>\n",
       "      <th>race/ethnicity</th>\n",
       "      <th>parental level of education</th>\n",
       "      <th>lunch</th>\n",
       "      <th>test preparation course</th>\n",
       "      <th>math score</th>\n",
       "      <th>reading score</th>\n",
       "      <th>writing score</th>\n",
       "    </tr>\n",
       "  </thead>\n",
       "  <tbody>\n",
       "    <tr>\n",
       "      <th>0</th>\n",
       "      <td>female</td>\n",
       "      <td>group B</td>\n",
       "      <td>bachelor's degree</td>\n",
       "      <td>standard</td>\n",
       "      <td>none</td>\n",
       "      <td>72</td>\n",
       "      <td>72</td>\n",
       "      <td>74</td>\n",
       "    </tr>\n",
       "    <tr>\n",
       "      <th>1</th>\n",
       "      <td>female</td>\n",
       "      <td>group C</td>\n",
       "      <td>some college</td>\n",
       "      <td>standard</td>\n",
       "      <td>completed</td>\n",
       "      <td>69</td>\n",
       "      <td>90</td>\n",
       "      <td>88</td>\n",
       "    </tr>\n",
       "    <tr>\n",
       "      <th>2</th>\n",
       "      <td>female</td>\n",
       "      <td>group B</td>\n",
       "      <td>master's degree</td>\n",
       "      <td>standard</td>\n",
       "      <td>none</td>\n",
       "      <td>90</td>\n",
       "      <td>95</td>\n",
       "      <td>93</td>\n",
       "    </tr>\n",
       "    <tr>\n",
       "      <th>3</th>\n",
       "      <td>male</td>\n",
       "      <td>group A</td>\n",
       "      <td>associate's degree</td>\n",
       "      <td>free/reduced</td>\n",
       "      <td>none</td>\n",
       "      <td>47</td>\n",
       "      <td>57</td>\n",
       "      <td>44</td>\n",
       "    </tr>\n",
       "    <tr>\n",
       "      <th>4</th>\n",
       "      <td>male</td>\n",
       "      <td>group C</td>\n",
       "      <td>some college</td>\n",
       "      <td>standard</td>\n",
       "      <td>none</td>\n",
       "      <td>76</td>\n",
       "      <td>78</td>\n",
       "      <td>75</td>\n",
       "    </tr>\n",
       "  </tbody>\n",
       "</table>\n",
       "</div>"
      ],
      "text/plain": [
       "   gender race/ethnicity parental level of education         lunch  \\\n",
       "0  female        group B           bachelor's degree      standard   \n",
       "1  female        group C                some college      standard   \n",
       "2  female        group B             master's degree      standard   \n",
       "3    male        group A          associate's degree  free/reduced   \n",
       "4    male        group C                some college      standard   \n",
       "\n",
       "  test preparation course  math score  reading score  writing score  \n",
       "0                    none          72             72             74  \n",
       "1               completed          69             90             88  \n",
       "2                    none          90             95             93  \n",
       "3                    none          47             57             44  \n",
       "4                    none          76             78             75  "
      ]
     },
     "execution_count": 2,
     "metadata": {},
     "output_type": "execute_result"
    }
   ],
   "source": [
    "# чтение обучающей выборки\n",
    "data = pd.read_csv('StudentsPerformance.csv')\n",
    "data.head()"
   ]
  },
  {
   "cell_type": "code",
   "execution_count": 3,
   "id": "154b76c4",
   "metadata": {},
   "outputs": [],
   "source": [
    "from sklearn.model_selection import train_test_split\n",
    "from sklearn.preprocessing import LabelEncoder\n"
   ]
  },
  {
   "cell_type": "code",
   "execution_count": 4,
   "id": "2444e88c",
   "metadata": {},
   "outputs": [],
   "source": [
    "le = LabelEncoder()\n",
    "    # \"gender\" - пол\n",
    "le.fit(data.gender.drop_duplicates()) \n",
    "data.gender = le.transform(data.gender)\n",
    "    # \"race/ethnicity\" - раса\n",
    "le.fit(data[\"race/ethnicity\"].drop_duplicates()) \n",
    "data[\"race/ethnicity\"] = le.transform(data[\"race/ethnicity\"])\n",
    "    # \"lunch\" - обед\n",
    "le.fit(data.lunch.drop_duplicates()) \n",
    "data.lunch = le.transform(data.lunch)\n",
    "    # \"parental level of education\" - образование родителей\n",
    "le.fit(data[\"parental level of education\"].drop_duplicates()) \n",
    "data[\"parental level of education\"] = le.transform(data[\"parental level of education\"])\n",
    "    # \"test preparation course\" - подготовительный курс\n",
    "le.fit(data[\"test preparation course\"].drop_duplicates()) \n",
    "data[\"test preparation course\"] = le.transform(data[\"test preparation course\"])"
   ]
  },
  {
   "cell_type": "code",
   "execution_count": 5,
   "id": "de51dbd5",
   "metadata": {},
   "outputs": [
    {
     "data": {
      "text/plain": [
       "<AxesSubplot:>"
      ]
     },
     "execution_count": 5,
     "metadata": {},
     "output_type": "execute_result"
    },
    {
     "data": {
      "image/png": "[encoded data removed]",
      "text/plain": [
       "<Figure size 1080x504 with 2 Axes>"
      ]
     },
     "metadata": {
      "needs_background": "light"
     },
     "output_type": "display_data"
    }
   ],
   "source": [
    "#Построим корреляционную матрицу\n",
    "fig, ax = plt.subplots(figsize=(15,7))\n",
    "sns.heatmap(data.corr(method='pearson'), ax=ax, annot=True, fmt='.2f')"
   ]
  },
  {
   "cell_type": "markdown",
   "id": "90a036b6",
   "metadata": {},
   "source": [
    "## Предскажем значения поля Writing score по Math score и Reading score, так как значение корреляции ближе всего к 1."
   ]
  },
  {
   "cell_type": "code",
   "execution_count": 6,
   "id": "afee1b7a",
   "metadata": {},
   "outputs": [
    {
     "name": "stdout",
     "output_type": "stream",
     "text": [
      "Входные данные:\n",
      "\n",
      "    math score  reading score\n",
      "0          72             72\n",
      "1          69             90\n",
      "2          90             95\n",
      "3          47             57\n",
      "4          76             78 \n",
      "\n",
      "Выходные данные:\n",
      "\n",
      " 0    74\n",
      "1    88\n",
      "2    93\n",
      "3    44\n",
      "4    75\n",
      "Name: writing score, dtype: int64\n"
     ]
    }
   ],
   "source": [
    "X = data[[\"math score\", \"reading score\"]]\n",
    "Y = data[\"writing score\"]\n",
    "print('Входные данные:\\n\\n', X.head(), '\\n\\nВыходные данные:\\n\\n', Y.head())\n"
   ]
  },
  {
   "cell_type": "code",
   "execution_count": 7,
   "id": "3f13481b",
   "metadata": {},
   "outputs": [
    {
     "name": "stdout",
     "output_type": "stream",
     "text": [
      "Входные параметры обучающей выборки:\n",
      "\n",
      "      math score  reading score\n",
      "785          32             51\n",
      "873          90             90\n",
      "65           67             64\n",
      "902          34             48\n",
      "317          83             72 \n",
      "\n",
      "Входные параметры тестовой выборки:\n",
      "\n",
      "      math score  reading score\n",
      "993          62             72\n",
      "859          87             73\n",
      "298          40             46\n",
      "553          77             62\n",
      "672          69             78 \n",
      "\n",
      "Выходные параметры обучающей выборки:\n",
      "\n",
      " 785    44\n",
      "873    82\n",
      "65     61\n",
      "902    41\n",
      "317    78\n",
      "Name: writing score, dtype: int64 \n",
      "\n",
      "Выходные параметры тестовой выборки:\n",
      "\n",
      " 993    74\n",
      "859    72\n",
      "298    50\n",
      "553    64\n",
      "672    76\n",
      "Name: writing score, dtype: int64\n"
     ]
    }
   ],
   "source": [
    "X_train,  X_test,  Y_train,  Y_test = train_test_split(X,  Y, random_state = 0, test_size = 0.1)\n",
    "print('Входные параметры обучающей выборки:\\n\\n',X_train.head(), \\\n",
    "      '\\n\\nВходные параметры тестовой выборки:\\n\\n', X_test.head(), \\\n",
    "      '\\n\\nВыходные параметры обучающей выборки:\\n\\n', Y_train.head(), \\\n",
    "      '\\n\\nВыходные параметры тестовой выборки:\\n\\n', Y_test.head())\n"
   ]
  },
  {
   "cell_type": "markdown",
   "id": "e21bf113",
   "metadata": {},
   "source": [
    "## Построение линейной регрессии"
   ]
  },
  {
   "cell_type": "code",
   "execution_count": 8,
   "id": "3c2aafa4",
   "metadata": {},
   "outputs": [],
   "source": [
    "from sklearn.linear_model import LinearRegression\n",
    "from sklearn.metrics import mean_absolute_error, mean_squared_error,  median_absolute_error, r2_score \n"
   ]
  },
  {
   "cell_type": "code",
   "execution_count": 9,
   "id": "c694dea8",
   "metadata": {},
   "outputs": [],
   "source": [
    "Lin_Reg = LinearRegression().fit(X_train, Y_train)\n",
    "\n",
    "lr_y_pred = Lin_Reg.predict(X_test)"
   ]
  },
  {
   "cell_type": "markdown",
   "id": "87e6afc9",
   "metadata": {},
   "source": [
    "## Возьмем тот параметр, чья корреляция ближе всего к единице, т.е. Reading score"
   ]
  },
  {
   "cell_type": "code",
   "execution_count": 10,
   "id": "a2835833",
   "metadata": {},
   "outputs": [
    {
     "data": {
      "image/png": "[encoded data removed]",
      "text/plain": [
       "<Figure size 432x288 with 1 Axes>"
      ]
     },
     "metadata": {
      "needs_background": "light"
     },
     "output_type": "display_data"
    }
   ],
   "source": [
    "plt.scatter(X_test[\"reading score\"], Y_test,    marker = 's', label = 'Тестовая выборка')\n",
    "plt.scatter(X_test[\"reading score\"], lr_y_pred, marker = 'o', label = 'Предсказанные данные')\n",
    "plt.legend (loc = 'lower right')\n",
    "plt.xlabel ('Баллы по чтению')\n",
    "plt.ylabel ('Целевой признак')\n",
    "plt.show()"
   ]
  },
  {
   "cell_type": "code",
   "execution_count": 11,
   "id": "39d81488",
   "metadata": {},
   "outputs": [
    {
     "name": "stdout",
     "output_type": "stream",
     "text": [
      "Средняя абсолютная ошибка: 2.923888877340559\n",
      "Средняя квадратичная ошибка: 13.784808524248346\n",
      "Median absolute error: 2.2703383603423752\n",
      "Коэффициент детерминации: 0.9287192371572706\n"
     ]
    }
   ],
   "source": [
    "from sklearn.metrics import mean_absolute_error, mean_squared_error,  median_absolute_error, r2_score \n",
    "\n",
    "print('Средняя абсолютная ошибка:',   mean_absolute_error(Y_test, lr_y_pred))\n",
    "print('Средняя квадратичная ошибка:', mean_squared_error(Y_test, lr_y_pred))\n",
    "print('Median absolute error:',       median_absolute_error(Y_test, lr_y_pred))\n",
    "print('Коэффициент детерминации:',    r2_score(Y_test, lr_y_pred))\n"
   ]
  },
  {
   "cell_type": "markdown",
   "id": "94b70210",
   "metadata": {},
   "source": [
    "## SVM"
   ]
  },
  {
   "cell_type": "code",
   "execution_count": 13,
   "id": "5dd69a89",
   "metadata": {},
   "outputs": [],
   "source": [
    "from sklearn.svm import SVC , LinearSVC\n",
    "from sklearn.datasets import make_blobs\n",
    "from matplotlib import pyplot as plt"
   ]
  },
  {
   "cell_type": "code",
   "execution_count": 14,
   "id": "8d48541b",
   "metadata": {},
   "outputs": [
    {
     "data": {
      "text/plain": [
       "SVC(kernel='linear')"
      ]
     },
     "execution_count": 14,
     "metadata": {},
     "output_type": "execute_result"
    }
   ],
   "source": [
    "svc = SVC(kernel='linear')\n",
    "svc.fit(X_train,Y_train)"
   ]
  },
  {
   "cell_type": "code",
   "execution_count": 15,
   "id": "2095051c",
   "metadata": {},
   "outputs": [],
   "source": [
    "pred_y = svc.predict(X_test)"
   ]
  },
  {
   "cell_type": "code",
   "execution_count": 16,
   "id": "ef54c678",
   "metadata": {},
   "outputs": [
    {
     "data": {
      "image/png": "[encoded data removed]",
      "text/plain": [
       "<Figure size 432x288 with 1 Axes>"
      ]
     },
     "metadata": {
      "needs_background": "light"
     },
     "output_type": "display_data"
    }
   ],
   "source": [
    "plt.scatter(X_test[\"reading score\"], Y_test,    marker = 's', label = 'Тестовая выборка')\n",
    "plt.scatter(X_test[\"reading score\"], pred_y, marker = 'o', label = 'Предсказанные данные')\n",
    "plt.legend (loc = 'lower right')\n",
    "plt.xlabel ('Баллы по чтению')\n",
    "plt.ylabel ('Целевой признак')\n",
    "plt.show()\n"
   ]
  },
  {
   "cell_type": "code",
   "execution_count": 17,
   "id": "3182b92f",
   "metadata": {},
   "outputs": [
    {
     "name": "stdout",
     "output_type": "stream",
     "text": [
      "Средняя абсолютная ошибка: 3.81\n",
      "Средняя квадратичная ошибка: 22.03\n",
      "Median absolute error: 4.0\n",
      "Коэффициент детерминации: 0.886083640359382\n"
     ]
    }
   ],
   "source": [
    "print('Средняя абсолютная ошибка:',   mean_absolute_error(Y_test, pred_y))\n",
    "print('Средняя квадратичная ошибка:', mean_squared_error(Y_test, pred_y))\n",
    "print('Median absolute error:',       median_absolute_error(Y_test, pred_y))\n",
    "print('Коэффициент детерминации:',    r2_score(Y_test, pred_y))"
   ]
  },
  {
   "cell_type": "markdown",
   "id": "96fa680d",
   "metadata": {},
   "source": [
    "## Tree"
   ]
  },
  {
   "cell_type": "code",
   "execution_count": 18,
   "id": "385afe47",
   "metadata": {},
   "outputs": [],
   "source": [
    "from sklearn.tree import DecisionTreeClassifier, DecisionTreeRegressor, export_graphviz\n",
    "from sklearn.tree import export_graphviz\n",
    "from sklearn import tree\n",
    "import re"
   ]
  },
  {
   "cell_type": "code",
   "execution_count": 19,
   "id": "22585d99",
   "metadata": {},
   "outputs": [],
   "source": [
    "# Обучим дерево на всех признаках\n",
    "clf = tree.DecisionTreeClassifier()\n",
    "clf = clf.fit(X_test, Y_test)"
   ]
  },
  {
   "cell_type": "code",
   "execution_count": 21,
   "id": "1fe81018",
   "metadata": {},
   "outputs": [
    {
     "data": {
      "text/html": [
       "<pre>|--- reading score <= 61.00\n",
       "|   |--- math score <= 64.50\n",
       "|   |   |--- math score <= 53.00\n",
       "|   |   |   |--- reading score <= 56.50\n",
       "|   |   |   |   |--- reading score <= 51.50\n",
       "|   |   |   |   |   |--- reading score <= 31.50\n",
       "|   |   |   |   |   |   |--- class: 30\n",
       "|   |   |   |   |   |--- reading score >  31.50\n",
       "|   |   |   |   |   |   |--- reading score <= 35.50\n",
       "|   |   |   |   |   |   |   |--- class: 36\n",
       "|   |   |   |   |   |   |--- reading score >  35.50\n",
       "|   |   |   |   |   |   |   |--- math score <= 36.00\n",
       "|   |   |   |   |   |   |   |   |--- class: 43\n",
       "|   |   |   |   |   |   |   |--- math score >  36.00\n",
       "|   |   |   |   |   |   |   |   |--- reading score <= 39.50\n",
       "|   |   |   |   |   |   |   |   |   |--- class: 35\n",
       "|   |   |   |   |   |   |   |   |--- reading score >  39.50\n",
       "|   |   |   |   |   |   |   |   |   |--- math score <= 39.50\n",
       "|   |   |   |   |   |   |   |   |   |   |--- class: 38\n",
       "|   |   |   |   |   |   |   |   |   |--- math score >  39.50\n",
       "|   |   |   |   |   |   |   |   |   |   |--- math score <= 42.00\n",
       "|   |   |   |   |   |   |   |   |   |   |   |--- class: 50\n",
       "|   |   |   |   |   |   |   |   |   |   |--- math score >  42.00\n",
       "|   |   |   |   |   |   |   |   |   |   |   |--- truncated branch of depth 2\n",
       "|   |   |   |   |--- reading score >  51.50\n",
       "|   |   |   |   |   |--- math score <= 44.50\n",
       "|   |   |   |   |   |   |--- class: 54\n",
       "|   |   |   |   |   |--- math score >  44.50\n",
       "|   |   |   |   |   |   |--- reading score <= 53.50\n",
       "|   |   |   |   |   |   |   |--- class: 58\n",
       "|   |   |   |   |   |   |--- reading score >  53.50\n",
       "|   |   |   |   |   |   |   |--- reading score <= 55.00\n",
       "|   |   |   |   |   |   |   |   |--- class: 53\n",
       "|   |   |   |   |   |   |   |--- reading score >  55.00\n",
       "|   |   |   |   |   |   |   |   |--- class: 58\n",
       "|   |   |   |--- reading score >  56.50\n",
       "|   |   |   |   |--- reading score <= 58.00\n",
       "|   |   |   |   |   |--- class: 56\n",
       "|   |   |   |   |--- reading score >  58.00\n",
       "|   |   |   |   |   |--- class: 56\n",
       "|   |   |--- math score >  53.00\n",
       "|   |   |   |--- reading score <= 49.50\n",
       "|   |   |   |   |--- math score <= 58.50\n",
       "|   |   |   |   |   |--- math score <= 54.50\n",
       "|   |   |   |   |   |   |--- class: 52\n",
       "|   |   |   |   |   |--- math score >  54.50\n",
       "|   |   |   |   |   |   |--- reading score <= 47.00\n",
       "|   |   |   |   |   |   |   |--- class: 44\n",
       "|   |   |   |   |   |   |--- reading score >  47.00\n",
       "|   |   |   |   |   |   |   |--- class: 51\n",
       "|   |   |   |   |--- math score >  58.50\n",
       "|   |   |   |   |   |--- class: 47\n",
       "|   |   |   |--- reading score >  49.50\n",
       "|   |   |   |   |--- math score <= 63.00\n",
       "|   |   |   |   |   |--- reading score <= 53.00\n",
       "|   |   |   |   |   |   |--- class: 52\n",
       "|   |   |   |   |   |--- reading score >  53.00\n",
       "|   |   |   |   |   |   |--- class: 55\n",
       "|   |   |   |   |--- math score >  63.00\n",
       "|   |   |   |   |   |--- class: 52\n",
       "|   |--- math score >  64.50\n",
       "|   |   |--- math score <= 67.50\n",
       "|   |   |   |--- class: 57\n",
       "|   |   |--- math score >  67.50\n",
       "|   |   |   |--- reading score <= 57.00\n",
       "|   |   |   |   |--- class: 57\n",
       "|   |   |   |--- reading score >  57.00\n",
       "|   |   |   |   |--- class: 53\n",
       "|--- reading score >  61.00\n",
       "|   |--- reading score <= 68.50\n",
       "|   |   |--- reading score <= 66.50\n",
       "|   |   |   |--- math score <= 69.50\n",
       "|   |   |   |   |--- math score <= 60.00\n",
       "|   |   |   |   |   |--- reading score <= 62.50\n",
       "|   |   |   |   |   |   |--- math score <= 45.50\n",
       "|   |   |   |   |   |   |   |--- class: 61\n",
       "|   |   |   |   |   |   |--- math score >  45.50\n",
       "|   |   |   |   |   |   |   |--- math score <= 53.50\n",
       "|   |   |   |   |   |   |   |   |--- class: 60\n",
       "|   |   |   |   |   |   |   |--- math score >  53.50\n",
       "|   |   |   |   |   |   |   |   |--- class: 64\n",
       "|   |   |   |   |   |--- reading score >  62.50\n",
       "|   |   |   |   |   |   |--- math score <= 49.00\n",
       "|   |   |   |   |   |   |   |--- class: 62\n",
       "|   |   |   |   |   |   |--- math score >  49.00\n",
       "|   |   |   |   |   |   |   |--- reading score <= 64.50\n",
       "|   |   |   |   |   |   |   |   |--- class: 68\n",
       "|   |   |   |   |   |   |   |--- reading score >  64.50\n",
       "|   |   |   |   |   |   |   |   |--- math score <= 55.00\n",
       "|   |   |   |   |   |   |   |   |   |--- class: 65\n",
       "|   |   |   |   |   |   |   |   |--- math score >  55.00\n",
       "|   |   |   |   |   |   |   |   |   |--- class: 63\n",
       "|   |   |   |   |--- math score >  60.00\n",
       "|   |   |   |   |   |--- reading score <= 62.50\n",
       "|   |   |   |   |   |   |--- class: 60\n",
       "|   |   |   |   |   |--- reading score >  62.50\n",
       "|   |   |   |   |   |   |--- reading score <= 65.50\n",
       "|   |   |   |   |   |   |   |--- class: 61\n",
       "|   |   |   |   |   |   |--- reading score >  65.50\n",
       "|   |   |   |   |   |   |   |--- math score <= 62.00\n",
       "|   |   |   |   |   |   |   |   |--- class: 61\n",
       "|   |   |   |   |   |   |   |--- math score >  62.00\n",
       "|   |   |   |   |   |   |   |   |--- class: 67\n",
       "|   |   |   |--- math score >  69.50\n",
       "|   |   |   |   |--- reading score <= 64.50\n",
       "|   |   |   |   |   |--- math score <= 73.00\n",
       "|   |   |   |   |   |   |--- class: 70\n",
       "|   |   |   |   |   |--- math score >  73.00\n",
       "|   |   |   |   |   |   |--- reading score <= 63.00\n",
       "|   |   |   |   |   |   |   |--- class: 64\n",
       "|   |   |   |   |   |   |--- reading score >  63.00\n",
       "|   |   |   |   |   |   |   |--- class: 66\n",
       "|   |   |   |   |--- reading score >  64.50\n",
       "|   |   |   |   |   |--- class: 60\n",
       "|   |   |--- reading score >  66.50\n",
       "|   |   |   |--- class: 67\n",
       "|   |--- reading score >  68.50\n",
       "|   |   |--- reading score <= 70.50\n",
       "|   |   |   |--- reading score <= 69.50\n",
       "|   |   |   |   |--- math score <= 63.00\n",
       "|   |   |   |   |   |--- class: 65\n",
       "|   |   |   |   |--- math score >  63.00\n",
       "|   |   |   |   |   |--- class: 75\n",
       "|   |   |   |--- reading score >  69.50\n",
       "|   |   |   |   |--- math score <= 71.50\n",
       "|   |   |   |   |   |--- math score <= 59.00\n",
       "|   |   |   |   |   |   |--- math score <= 55.50\n",
       "|   |   |   |   |   |   |   |--- class: 70\n",
       "|   |   |   |   |   |   |--- math score >  55.50\n",
       "|   |   |   |   |   |   |   |--- class: 68\n",
       "|   |   |   |   |   |--- math score >  59.00\n",
       "|   |   |   |   |   |   |--- class: 70\n",
       "|   |   |   |   |--- math score >  71.50\n",
       "|   |   |   |   |   |--- class: 75\n",
       "|   |   |--- reading score >  70.50\n",
       "|   |   |   |--- reading score <= 81.50\n",
       "|   |   |   |   |--- reading score <= 77.50\n",
       "|   |   |   |   |   |--- math score <= 76.50\n",
       "|   |   |   |   |   |   |--- math score <= 74.50\n",
       "|   |   |   |   |   |   |   |--- reading score <= 75.00\n",
       "|   |   |   |   |   |   |   |   |--- reading score <= 72.50\n",
       "|   |   |   |   |   |   |   |   |   |--- math score <= 57.50\n",
       "|   |   |   |   |   |   |   |   |   |   |--- class: 64\n",
       "|   |   |   |   |   |   |   |   |   |--- math score >  57.50\n",
       "|   |   |   |   |   |   |   |   |   |   |--- math score <= 65.50\n",
       "|   |   |   |   |   |   |   |   |   |   |   |--- class: 74\n",
       "|   |   |   |   |   |   |   |   |   |   |--- math score >  65.50\n",
       "|   |   |   |   |   |   |   |   |   |   |   |--- class: 77\n",
       "|   |   |   |   |   |   |   |   |--- reading score >  72.50\n",
       "|   |   |   |   |   |   |   |   |   |--- reading score <= 73.50\n",
       "|   |   |   |   |   |   |   |   |   |   |--- math score <= 63.50\n",
       "|   |   |   |   |   |   |   |   |   |   |   |--- class: 78\n",
       "|   |   |   |   |   |   |   |   |   |   |--- math score >  63.50\n",
       "|   |   |   |   |   |   |   |   |   |   |   |--- class: 70\n",
       "|   |   |   |   |   |   |   |   |   |--- reading score >  73.50\n",
       "|   |   |   |   |   |   |   |   |   |   |--- math score <= 70.50\n",
       "|   |   |   |   |   |   |   |   |   |   |   |--- class: 71\n",
       "|   |   |   |   |   |   |   |   |   |   |--- math score >  70.50\n",
       "|   |   |   |   |   |   |   |   |   |   |   |--- class: 64\n",
       "|   |   |   |   |   |   |   |--- reading score >  75.00\n",
       "|   |   |   |   |   |   |   |   |--- math score <= 54.50\n",
       "|   |   |   |   |   |   |   |   |   |--- class: 70\n",
       "|   |   |   |   |   |   |   |   |--- math score >  54.50\n",
       "|   |   |   |   |   |   |   |   |   |--- reading score <= 76.50\n",
       "|   |   |   |   |   |   |   |   |   |   |--- class: 80\n",
       "|   |   |   |   |   |   |   |   |   |--- reading score >  76.50\n",
       "|   |   |   |   |   |   |   |   |   |   |--- math score <= 61.00\n",
       "|   |   |   |   |   |   |   |   |   |   |   |--- class: 80\n",
       "|   |   |   |   |   |   |   |   |   |   |--- math score >  61.00\n",
       "|   |   |   |   |   |   |   |   |   |   |   |--- truncated branch of depth 2\n",
       "|   |   |   |   |   |   |--- math score >  74.50\n",
       "|   |   |   |   |   |   |   |--- class: 68\n",
       "|   |   |   |   |   |--- math score >  76.50\n",
       "|   |   |   |   |   |   |--- reading score <= 74.00\n",
       "|   |   |   |   |   |   |   |--- reading score <= 72.50\n",
       "|   |   |   |   |   |   |   |   |--- reading score <= 71.50\n",
       "|   |   |   |   |   |   |   |   |   |--- class: 73\n",
       "|   |   |   |   |   |   |   |   |--- reading score >  71.50\n",
       "|   |   |   |   |   |   |   |   |   |--- class: 69\n",
       "|   |   |   |   |   |   |   |--- reading score >  72.50\n",
       "|   |   |   |   |   |   |   |   |--- class: 72\n",
       "|   |   |   |   |   |   |--- reading score >  74.00\n",
       "|   |   |   |   |   |   |   |--- reading score <= 75.50\n",
       "|   |   |   |   |   |   |   |   |--- class: 76\n",
       "|   |   |   |   |   |   |   |--- reading score >  75.50\n",
       "|   |   |   |   |   |   |   |   |--- math score <= 81.50\n",
       "|   |   |   |   |   |   |   |   |   |--- class: 73\n",
       "|   |   |   |   |   |   |   |   |--- math score >  81.50\n",
       "|   |   |   |   |   |   |   |   |   |--- class: 74\n",
       "|   |   |   |   |--- reading score >  77.50\n",
       "|   |   |   |   |   |--- math score <= 73.50\n",
       "|   |   |   |   |   |   |--- reading score <= 78.50\n",
       "|   |   |   |   |   |   |   |--- math score <= 58.00\n",
       "|   |   |   |   |   |   |   |   |--- class: 79\n",
       "|   |   |   |   |   |   |   |--- math score >  58.00\n",
       "|   |   |   |   |   |   |   |   |--- class: 76\n",
       "|   |   |   |   |   |   |--- reading score >  78.50\n",
       "|   |   |   |   |   |   |   |--- class: 79\n",
       "|   |   |   |   |   |--- math score >  73.50\n",
       "|   |   |   |   |   |   |--- math score <= 87.50\n",
       "|   |   |   |   |   |   |   |--- reading score <= 78.50\n",
       "|   |   |   |   |   |   |   |   |--- class: 81\n",
       "|   |   |   |   |   |   |   |--- reading score >  78.50\n",
       "|   |   |   |   |   |   |   |   |--- math score <= 76.50\n",
       "|   |   |   |   |   |   |   |   |   |--- class: 80\n",
       "|   |   |   |   |   |   |   |   |--- math score >  76.50\n",
       "|   |   |   |   |   |   |   |   |   |--- math score <= 81.50\n",
       "|   |   |   |   |   |   |   |   |   |   |--- class: 78\n",
       "|   |   |   |   |   |   |   |   |   |--- math score >  81.50\n",
       "|   |   |   |   |   |   |   |   |   |   |--- class: 80\n",
       "|   |   |   |   |   |   |--- math score >  87.50\n",
       "|   |   |   |   |   |   |   |--- math score <= 91.50\n",
       "|   |   |   |   |   |   |   |   |--- class: 79\n",
       "|   |   |   |   |   |   |   |--- math score >  91.50\n",
       "|   |   |   |   |   |   |   |   |--- class: 84\n",
       "|   |   |   |--- reading score >  81.50\n",
       "|   |   |   |   |--- math score <= 78.00\n",
       "|   |   |   |   |   |--- reading score <= 88.50\n",
       "|   |   |   |   |   |   |--- math score <= 74.00\n",
       "|   |   |   |   |   |   |   |--- reading score <= 85.00\n",
       "|   |   |   |   |   |   |   |   |--- class: 83\n",
       "|   |   |   |   |   |   |   |--- reading score >  85.00\n",
       "|   |   |   |   |   |   |   |   |--- class: 82\n",
       "|   |   |   |   |   |   |--- math score >  74.00\n",
       "|   |   |   |   |   |   |   |--- class: 91\n",
       "|   |   |   |   |   |--- reading score >  88.50\n",
       "|   |   |   |   |   |   |--- class: 88\n",
       "|   |   |   |   |--- math score >  78.00\n",
       "|   |   |   |   |   |--- reading score <= 84.50\n",
       "|   |   |   |   |   |   |--- class: 90\n",
       "|   |   |   |   |   |--- reading score >  84.50\n",
       "|   |   |   |   |   |   |--- math score <= 80.00\n",
       "|   |   |   |   |   |   |   |--- reading score <= 87.00\n",
       "|   |   |   |   |   |   |   |   |--- class: 86\n",
       "|   |   |   |   |   |   |   |--- reading score >  87.00\n",
       "|   |   |   |   |   |   |   |   |--- class: 89\n",
       "|   |   |   |   |   |   |--- math score >  80.00\n",
       "|   |   |   |   |   |   |   |--- reading score <= 89.00\n",
       "|   |   |   |   |   |   |   |   |--- math score <= 92.00\n",
       "|   |   |   |   |   |   |   |   |   |--- class: 75\n",
       "|   |   |   |   |   |   |   |   |--- math score >  92.00\n",
       "|   |   |   |   |   |   |   |   |   |--- math score <= 96.50\n",
       "|   |   |   |   |   |   |   |   |   |   |--- class: 92\n",
       "|   |   |   |   |   |   |   |   |   |--- math score >  96.50\n",
       "|   |   |   |   |   |   |   |   |   |   |--- class: 81\n",
       "|   |   |   |   |   |   |   |--- reading score >  89.00\n",
       "|   |   |   |   |   |   |   |   |--- reading score <= 92.00\n",
       "|   |   |   |   |   |   |   |   |   |--- class: 87\n",
       "|   |   |   |   |   |   |   |   |--- reading score >  92.00\n",
       "|   |   |   |   |   |   |   |   |   |--- math score <= 87.00\n",
       "|   |   |   |   |   |   |   |   |   |   |--- class: 93\n",
       "|   |   |   |   |   |   |   |   |   |--- math score >  87.00\n",
       "|   |   |   |   |   |   |   |   |   |   |--- class: 100\n",
       "</pre>"
      ],
      "text/plain": [
       "<IPython.core.display.HTML object>"
      ]
     },
     "execution_count": 21,
     "metadata": {},
     "output_type": "execute_result"
    }
   ],
   "source": [
    "from IPython.core.display import HTML\n",
    "from sklearn.tree import export_text\n",
    "tree_rules = export_text(clf, feature_names=list(X.columns))\n",
    "HTML('<pre>' + tree_rules + '</pre>')"
   ]
  },
  {
   "cell_type": "code",
   "execution_count": 22,
   "id": "4dee5fb5",
   "metadata": {},
   "outputs": [
    {
     "data": {
      "image/png": "[encoded data removed]",
      "text/plain": [
       "<Figure size 432x288 with 1 Axes>"
      ]
     },
     "metadata": {
      "needs_background": "light"
     },
     "output_type": "display_data"
    }
   ],
   "source": [
    "pred_y = clf.predict(X_test)\n",
    "plt.scatter(X_test[\"reading score\"], Y_test,    marker = 's', label = 'Тестовая выборка')\n",
    "plt.scatter(X_test[\"reading score\"], pred_y, marker = 'o', label = 'Предсказанные данные')\n",
    "plt.legend (loc = 'lower right')\n",
    "plt.xlabel ('Баллы по чтению')\n",
    "plt.ylabel ('Целевой признак')\n",
    "plt.show()"
   ]
  },
  {
   "cell_type": "code",
   "execution_count": 23,
   "id": "a9af236f",
   "metadata": {},
   "outputs": [
    {
     "name": "stdout",
     "output_type": "stream",
     "text": [
      "Средняя абсолютная ошибка: 0.06\n",
      "Средняя квадратичная ошибка: 0.36\n",
      "Median absolute error: 0.0\n",
      "Коэффициент детерминации: 0.9981384525887144\n"
     ]
    }
   ],
   "source": [
    "print('Средняя абсолютная ошибка:',   mean_absolute_error(Y_test, pred_y))\n",
    "print('Средняя квадратичная ошибка:', mean_squared_error(Y_test, pred_y))\n",
    "print('Median absolute error:',       median_absolute_error(Y_test, pred_y))\n",
    "print('Коэффициент детерминации:',    r2_score(Y_test, pred_y))"
   ]
  },
  {
   "cell_type": "code",
   "execution_count": null,
   "id": "35169447",
   "metadata": {},
   "outputs": [],
   "source": []
  }
 ],
 "metadata": {
  "kernelspec": {
   "display_name": "Python 3 (ipykernel)",
   "language": "python",
   "name": "python3"
  },
  "language_info": {
   "codemirror_mode": {
    "name": "ipython",
    "version": 3
   },
   "file_extension": ".py",
   "mimetype": "text/x-python",
   "name": "python",
   "nbconvert_exporter": "python",
   "pygments_lexer": "ipython3",
   "version": "3.9.7"
  }
 },
 "nbformat": 4,
 "nbformat_minor": 5
}
